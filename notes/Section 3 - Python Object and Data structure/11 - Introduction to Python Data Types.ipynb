{
 "cells": [
  {
   "cell_type": "markdown",
   "id": "2b291a52",
   "metadata": {},
   "source": [
    "# 11. Introduction to Python Data Types\n",
    "\n",
    "### Basic Data Types\n",
    "\n",
    "- In this section of the course we will cover the key data types in Python.\n",
    "- These are your basic building blocks when constructing larger pieces of code.\n",
    "- Let's quickly discuss all of the possible data types, then we'll have lectures that go into more details about each one!\n",
    "\n",
    "<br>\n",
    "\n",
    "> Integers: int - 3, 300, 200\n",
    "\n",
    "> FLoating Point: float - 2.3, 4.6 100.0\n",
    "\n",
    "> Strings: str - \"hello\" 'Sammy' \"2000\"\n",
    "\n",
    "> Lists: list - Ordered sequence of objects: [10, \"hello\", 200.3]\n",
    "\n",
    "> Dictionaries: dict - Unordered Key:Value pairs: {\"mykey\":\"value\",\"name\":\"Frankie\"}\n",
    "\n",
    "> Tuples: tup - Ordered immutable sequnce of objects: (10, \"hello\", 200.3)\n",
    "\n",
    "> Sets: set - Unordered collection of unique objects: {\"a\", \"b\"}\n",
    "\n",
    "> Booleans: bool - Logical value indicating <b>True</b> or <b>False</b>\n",
    "\n"
   ]
  }
 ],
 "metadata": {
  "kernelspec": {
   "display_name": "Python 3 (ipykernel)",
   "language": "python",
   "name": "python3"
  },
  "language_info": {
   "codemirror_mode": {
    "name": "ipython",
    "version": 3
   },
   "file_extension": ".py",
   "mimetype": "text/x-python",
   "name": "python",
   "nbconvert_exporter": "python",
   "pygments_lexer": "ipython3",
   "version": "3.9.7"
  }
 },
 "nbformat": 4,
 "nbformat_minor": 5
}
