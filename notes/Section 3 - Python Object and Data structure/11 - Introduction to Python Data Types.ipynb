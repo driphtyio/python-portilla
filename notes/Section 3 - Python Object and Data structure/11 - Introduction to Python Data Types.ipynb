{
 "cells": [
  {
   "cell_type": "code",
   "execution_count": null,
   "id": "2b291a52",
   "metadata": {},
   "outputs": [],
   "source": [
    "#In this section of the course we will cover the key data types in python\n",
    "#These are your basic building blocks when constructing large pieces of code.\n",
    "#Let's quickly discuss all the possible data types, then we'll have lectures that go into more detail about each one!\n"
   ]
  },
  {
   "cell_type": "code",
   "execution_count": 1,
   "id": "fa40a984",
   "metadata": {},
   "outputs": [],
   "source": [
    "#Intergers int Whole numbers, such as: 3 300 200\n",
    "#Floating point float Numbers with a decimal point: 2.3 4.6 100.0\n",
    "#Strings str Ordered squences of characters: \"hello\" 'Sammy' \"2000\"\n",
    "#Lists list Ordered sequences of objects: [10,'hello',200.3]\n",
    "#Dictionaries dict Unordered key:Value pairs: {\"mykey\":\"value\",\"name\":\"Frankie\"}\n",
    "#Tuples tup Ordered immutable sequence of objects:(10,'hello',200.3)\n",
    "#Sets set Unordered collection of unique objects: {\"a\",\"b\"}\n",
    "#Booleans bool Logical value indicating True or False"
   ]
  },
  {
   "cell_type": "code",
   "execution_count": null,
   "id": "e5a56637",
   "metadata": {},
   "outputs": [],
   "source": []
  }
 ],
 "metadata": {
  "kernelspec": {
   "display_name": "Python 3 (ipykernel)",
   "language": "python",
   "name": "python3"
  },
  "language_info": {
   "codemirror_mode": {
    "name": "ipython",
    "version": 3
   },
   "file_extension": ".py",
   "mimetype": "text/x-python",
   "name": "python",
   "nbconvert_exporter": "python",
   "pygments_lexer": "ipython3",
   "version": "3.9.7"
  }
 },
 "nbformat": 4,
 "nbformat_minor": 5
}
