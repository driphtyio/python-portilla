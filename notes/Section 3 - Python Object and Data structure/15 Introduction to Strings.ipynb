{
 "cells": [
  {
   "cell_type": "code",
   "execution_count": 1,
   "id": "d580ee96",
   "metadata": {},
   "outputs": [],
   "source": [
    "# *Strings are sequences of characters, using the syntax of either single quotes or double quotes:\n",
    "    # - 'hello', \"hello\", \"I don't do that\""
   ]
  },
  {
   "cell_type": "code",
   "execution_count": 2,
   "id": "2c992686",
   "metadata": {},
   "outputs": [],
   "source": [
    "# *Because strings are ordered sequences it means we can use indexing and slicing to grab sub-sections of the string.\n",
    "# *Indexing notation uses square bracket [] notation after the string (or variable assinged to the string).\n",
    "# *Indexing allows you to grab a single character from the string..."
   ]
  },
  {
   "cell_type": "code",
   "execution_count": 3,
   "id": "c185c7bb",
   "metadata": {},
   "outputs": [],
   "source": [
    "# *These actions use [] square brackets and a number index to indicate positions of what you wish to grab.\n",
    "    # Character: h e l l o\n",
    "    # Index      0 1 2 3 4"
   ]
  },
  {
   "cell_type": "code",
   "execution_count": 4,
   "id": "2e8f0379",
   "metadata": {},
   "outputs": [],
   "source": [
    "# *Slicing allows you to grab a subsection of multiple characters, a \"slice\" of the string.\n",
    "# *This has the following syntax:\n",
    "    # -[start:stop:step]\n",
    "# *start is a numberical index for the slice start"
   ]
  },
  {
   "cell_type": "code",
   "execution_count": 5,
   "id": "f37634ee",
   "metadata": {},
   "outputs": [
    {
     "data": {
      "text/plain": [
       "'hello'"
      ]
     },
     "execution_count": 5,
     "metadata": {},
     "output_type": "execute_result"
    }
   ],
   "source": [
    "'hello'"
   ]
  },
  {
   "cell_type": "code",
   "execution_count": 6,
   "id": "ac9436f5",
   "metadata": {},
   "outputs": [
    {
     "data": {
      "text/plain": [
       "'world'"
      ]
     },
     "execution_count": 6,
     "metadata": {},
     "output_type": "execute_result"
    }
   ],
   "source": [
    "\"world\""
   ]
  },
  {
   "cell_type": "code",
   "execution_count": 7,
   "id": "fa7d2848",
   "metadata": {},
   "outputs": [
    {
     "data": {
      "text/plain": [
       "'this is also a string'"
      ]
     },
     "execution_count": 7,
     "metadata": {},
     "output_type": "execute_result"
    }
   ],
   "source": [
    "'this is also a string'"
   ]
  },
  {
   "cell_type": "code",
   "execution_count": 8,
   "id": "a4702775",
   "metadata": {},
   "outputs": [
    {
     "data": {
      "text/plain": [
       "\" I'm going on a run\""
      ]
     },
     "execution_count": 8,
     "metadata": {},
     "output_type": "execute_result"
    }
   ],
   "source": [
    "\" I'm going on a run\""
   ]
  },
  {
   "cell_type": "code",
   "execution_count": 9,
   "id": "ac7e4922",
   "metadata": {},
   "outputs": [
    {
     "name": "stdout",
     "output_type": "stream",
     "text": [
      "hello\n"
     ]
    }
   ],
   "source": [
    "print(\"hello\")"
   ]
  },
  {
   "cell_type": "code",
   "execution_count": 11,
   "id": "c4ef752d",
   "metadata": {},
   "outputs": [
    {
     "data": {
      "text/plain": [
       "'hello world two'"
      ]
     },
     "execution_count": 11,
     "metadata": {},
     "output_type": "execute_result"
    }
   ],
   "source": [
    "\"hello world one\"\n",
    "\"hello world two\""
   ]
  },
  {
   "cell_type": "code",
   "execution_count": 12,
   "id": "e5a812a4",
   "metadata": {},
   "outputs": [
    {
     "name": "stdout",
     "output_type": "stream",
     "text": [
      "hello world one\n",
      "hellow world two\n"
     ]
    }
   ],
   "source": [
    "print('hello world one')\n",
    "print('hellow world two')"
   ]
  },
  {
   "cell_type": "code",
   "execution_count": 13,
   "id": "495a9d71",
   "metadata": {},
   "outputs": [
    {
     "name": "stdout",
     "output_type": "stream",
     "text": [
      "hello \n",
      " world\n"
     ]
    }
   ],
   "source": [
    "# \\n escape sequence for new line\n",
    "print('hello \\n world')"
   ]
  },
  {
   "cell_type": "code",
   "execution_count": 14,
   "id": "303ee6c9",
   "metadata": {},
   "outputs": [
    {
     "name": "stdout",
     "output_type": "stream",
     "text": [
      "hello \t world\n"
     ]
    }
   ],
   "source": [
    "# \\t escape sequence for tab\n",
    "print('hello \\t world')"
   ]
  },
  {
   "cell_type": "code",
   "execution_count": 15,
   "id": "ba5aa937",
   "metadata": {},
   "outputs": [
    {
     "data": {
      "text/plain": [
       "5"
      ]
     },
     "execution_count": 15,
     "metadata": {},
     "output_type": "execute_result"
    }
   ],
   "source": [
    "len('hello')"
   ]
  },
  {
   "cell_type": "code",
   "execution_count": 16,
   "id": "d9bbdd66",
   "metadata": {},
   "outputs": [
    {
     "data": {
      "text/plain": [
       "4"
      ]
     },
     "execution_count": 16,
     "metadata": {},
     "output_type": "execute_result"
    }
   ],
   "source": [
    "len('I am')"
   ]
  },
  {
   "cell_type": "code",
   "execution_count": null,
   "id": "46e0477e",
   "metadata": {},
   "outputs": [],
   "source": []
  }
 ],
 "metadata": {
  "kernelspec": {
   "display_name": "Python 3 (ipykernel)",
   "language": "python",
   "name": "python3"
  },
  "language_info": {
   "codemirror_mode": {
    "name": "ipython",
    "version": 3
   },
   "file_extension": ".py",
   "mimetype": "text/x-python",
   "name": "python",
   "nbconvert_exporter": "python",
   "pygments_lexer": "ipython3",
   "version": "3.9.7"
  }
 },
 "nbformat": 4,
 "nbformat_minor": 5
}
