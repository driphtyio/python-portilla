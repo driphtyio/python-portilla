{
 "cells": [
  {
   "cell_type": "code",
   "execution_count": null,
   "id": "7c5d907e",
   "metadata": {},
   "outputs": [],
   "source": [
    "#Numbers FAQ\n",
    "\n",
    "# 1. What's the difference between a floating point and an integer?\n",
    "    #An integer has no decimals in it, a floating point number can display digits past the decimal point.\n",
    "# 2.Why doesn't 0.1+0.2-0.3 equal 0.9?\n",
    "    #This has to do with floating point accuracy and computer's abilities to represent numbers in memory. "
   ]
  }
 ],
 "metadata": {
  "kernelspec": {
   "display_name": "Python 3 (ipykernel)",
   "language": "python",
   "name": "python3"
  },
  "language_info": {
   "codemirror_mode": {
    "name": "ipython",
    "version": 3
   },
   "file_extension": ".py",
   "mimetype": "text/x-python",
   "name": "python",
   "nbconvert_exporter": "python",
   "pygments_lexer": "ipython3",
   "version": "3.9.7"
  }
 },
 "nbformat": 4,
 "nbformat_minor": 5
}
