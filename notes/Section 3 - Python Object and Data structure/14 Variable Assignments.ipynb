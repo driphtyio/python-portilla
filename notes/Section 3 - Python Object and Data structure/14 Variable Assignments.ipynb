{
 "cells": [
  {
   "cell_type": "code",
   "execution_count": 1,
   "id": "7ce59aa2",
   "metadata": {},
   "outputs": [],
   "source": [
    "# * We just saw how to work with numbers, but what do these numbers represent?\n",
    "# * It would be nice to assign these data types a variable name to easily reference them later on in our code!\n",
    "# * For example:\n",
    "    # - my_dogs = 2"
   ]
  },
  {
   "cell_type": "code",
   "execution_count": 2,
   "id": "f47e80c9",
   "metadata": {},
   "outputs": [],
   "source": [
    "# * Rules for variable names\n",
    "    # - Names can not start with a number.\n",
    "    # - There can be no spaces in the name, use _ instead.\n",
    "    # - Can't use any of these symbols :\"\"<>/?|\\()!#@#$%^&*~-+\n",
    "    # -It's considered best practice (PEP8) that names are lowercase.\n",
    "    # - Avoid using words that have special meaning in Python like \"list\" and \"str\"\n",
    "# * Python uses DYNAMIC TYPING\n",
    "# * This means you can reassign variables to different data types.\n",
    "# * This makes Python very flexiable in assigning data types, this is different than other languages that are \"Statically-Typed\"\n",
    "\n",
    "    "
   ]
  },
  {
   "cell_type": "code",
   "execution_count": 3,
   "id": "5257ed01",
   "metadata": {},
   "outputs": [],
   "source": [
    "my_dogs = 2"
   ]
  },
  {
   "cell_type": "code",
   "execution_count": 5,
   "id": "cdd67523",
   "metadata": {},
   "outputs": [],
   "source": [
    "my_dogs = [\"Sammy\",\"Frankie\"]\n",
    "# This is okay in Python\n",
    "# ERROR in other Languages!"
   ]
  },
  {
   "cell_type": "code",
   "execution_count": 6,
   "id": "7664970c",
   "metadata": {},
   "outputs": [],
   "source": [
    "# Example of Static Typing in (C++)\n",
    "\n",
    "# int my_dog = 1;\n",
    "\n",
    "# my_dog = \"Sammy\"; //RESULTS IN ERROR"
   ]
  },
  {
   "cell_type": "code",
   "execution_count": 7,
   "id": "5f73606d",
   "metadata": {},
   "outputs": [],
   "source": [
    "# * Pros of Dynamic Typing:\n",
    "    # - Very easy to work with\n",
    "    # - Faster development time\n",
    "# Cons of Dynamic Typing:\n",
    "    # - May result in bugs for expected data types!\n",
    "    # - You need to be aware of type()"
   ]
  },
  {
   "cell_type": "code",
   "execution_count": 8,
   "id": "5ac5f14d",
   "metadata": {},
   "outputs": [],
   "source": [
    "a = 5"
   ]
  },
  {
   "cell_type": "code",
   "execution_count": 9,
   "id": "9bac000e",
   "metadata": {},
   "outputs": [
    {
     "data": {
      "text/plain": [
       "5"
      ]
     },
     "execution_count": 9,
     "metadata": {},
     "output_type": "execute_result"
    }
   ],
   "source": [
    "a"
   ]
  },
  {
   "cell_type": "code",
   "execution_count": 10,
   "id": "5138a7c8",
   "metadata": {},
   "outputs": [],
   "source": [
    "a = 10"
   ]
  },
  {
   "cell_type": "code",
   "execution_count": 11,
   "id": "12cd4938",
   "metadata": {},
   "outputs": [
    {
     "data": {
      "text/plain": [
       "10"
      ]
     },
     "execution_count": 11,
     "metadata": {},
     "output_type": "execute_result"
    }
   ],
   "source": [
    "a"
   ]
  },
  {
   "cell_type": "code",
   "execution_count": 12,
   "id": "bf86e39f",
   "metadata": {},
   "outputs": [
    {
     "data": {
      "text/plain": [
       "20"
      ]
     },
     "execution_count": 12,
     "metadata": {},
     "output_type": "execute_result"
    }
   ],
   "source": [
    "a + a "
   ]
  },
  {
   "cell_type": "code",
   "execution_count": 13,
   "id": "36bc5e60",
   "metadata": {},
   "outputs": [
    {
     "data": {
      "text/plain": [
       "10"
      ]
     },
     "execution_count": 13,
     "metadata": {},
     "output_type": "execute_result"
    }
   ],
   "source": [
    "a"
   ]
  },
  {
   "cell_type": "code",
   "execution_count": 16,
   "id": "8b1de42b",
   "metadata": {},
   "outputs": [],
   "source": [
    "a = a + a"
   ]
  },
  {
   "cell_type": "code",
   "execution_count": 17,
   "id": "a66900f3",
   "metadata": {},
   "outputs": [
    {
     "data": {
      "text/plain": [
       "40"
      ]
     },
     "execution_count": 17,
     "metadata": {},
     "output_type": "execute_result"
    }
   ],
   "source": [
    "a"
   ]
  },
  {
   "cell_type": "code",
   "execution_count": 18,
   "id": "82c7e639",
   "metadata": {},
   "outputs": [
    {
     "data": {
      "text/plain": [
       "int"
      ]
     },
     "execution_count": 18,
     "metadata": {},
     "output_type": "execute_result"
    }
   ],
   "source": [
    "type(a)"
   ]
  },
  {
   "cell_type": "code",
   "execution_count": 19,
   "id": "d9c4dc76",
   "metadata": {},
   "outputs": [],
   "source": [
    "a = 30.1"
   ]
  },
  {
   "cell_type": "code",
   "execution_count": 20,
   "id": "c12832ad",
   "metadata": {},
   "outputs": [
    {
     "data": {
      "text/plain": [
       "float"
      ]
     },
     "execution_count": 20,
     "metadata": {},
     "output_type": "execute_result"
    }
   ],
   "source": [
    "type(a)"
   ]
  },
  {
   "cell_type": "code",
   "execution_count": 21,
   "id": "153cace2",
   "metadata": {},
   "outputs": [],
   "source": [
    "my_income = 100\n",
    "\n",
    "tax_rate = 0.1\n",
    "\n",
    "my_taxes = my_income * tax_rate"
   ]
  },
  {
   "cell_type": "code",
   "execution_count": 22,
   "id": "36e28bac",
   "metadata": {},
   "outputs": [
    {
     "data": {
      "text/plain": [
       "10.0"
      ]
     },
     "execution_count": 22,
     "metadata": {},
     "output_type": "execute_result"
    }
   ],
   "source": [
    "my_taxes"
   ]
  },
  {
   "cell_type": "code",
   "execution_count": null,
   "id": "09be9b9c",
   "metadata": {},
   "outputs": [],
   "source": []
  }
 ],
 "metadata": {
  "kernelspec": {
   "display_name": "Python 3 (ipykernel)",
   "language": "python",
   "name": "python3"
  },
  "language_info": {
   "codemirror_mode": {
    "name": "ipython",
    "version": 3
   },
   "file_extension": ".py",
   "mimetype": "text/x-python",
   "name": "python",
   "nbconvert_exporter": "python",
   "pygments_lexer": "ipython3",
   "version": "3.9.7"
  }
 },
 "nbformat": 4,
 "nbformat_minor": 5
}
