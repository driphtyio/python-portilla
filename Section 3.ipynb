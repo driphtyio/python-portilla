{
 "cells": [
  {
   "cell_type": "markdown",
   "id": "2b291a52",
   "metadata": {},
   "source": [
    "# 11. Introduction to Python Data Types\n",
    "\n",
    "### Basic Data Types\n",
    "\n",
    "- In this section of the course we will cover the key data types in Python.\n",
    "- These are your basic building blocks when constructing larger pieces of code.\n",
    "- Let's quickly discuss all of the possible data types, then we'll have lectures that go into more details about each one!\n",
    "\n",
    "\n",
    "> Integers  | int |   3, 300, 200\n",
    "\n",
    "> FLoating Point | float | 2.3, 4.6 100.0\n",
    "\n",
    "> Strings | str | \"hello\" 'Sammy' \"2000\"\n",
    "\n",
    "> Lists | list | Ordered sequence of objects: [10, \"hello\", 200.3]\n",
    "\n",
    "> Dictionaries | dict | Unordered Key:Value pairs: {\"mykey\":\"value\",\"name\":\"Frankie\"}\n",
    "\n",
    "> Tuples | tup | Ordered immutable sequnce of objects: (10, \"hello\", 200.3)\n",
    "\n",
    "> Sets | set | Unordered collection of unique objects: {\"a\", \"b\"}\n",
    "\n",
    "> Booleans | bool | Logical value indicating <b>True</b> or <b>False</b>\n",
    "\n"
   ]
  },
  {
   "cell_type": "markdown",
   "id": "84b6cd21",
   "metadata": {},
   "source": [
    "# 12. Python Numbers\n",
    "\n",
    "- There are two main number types we will work ith:\n",
    "    - Integers which are whole numbers.\n",
    "    - Floating Point numbers which are numbers with a decimal\n",
    "- Let's explore basic math with Python!\n",
    "- We will also discuss how to create variables and assign them values"
   ]
  },
  {
   "cell_type": "code",
   "execution_count": 2,
   "id": "74575299",
   "metadata": {},
   "outputs": [
    {
     "data": {
      "text/plain": [
       "3"
      ]
     },
     "execution_count": 2,
     "metadata": {},
     "output_type": "execute_result"
    }
   ],
   "source": [
    "2 + 1"
   ]
  },
  {
   "cell_type": "code",
   "execution_count": 3,
   "id": "07da469b",
   "metadata": {},
   "outputs": [
    {
     "data": {
      "text/plain": [
       "1"
      ]
     },
     "execution_count": 3,
     "metadata": {},
     "output_type": "execute_result"
    }
   ],
   "source": [
    "2 - 1"
   ]
  },
  {
   "cell_type": "code",
   "execution_count": 4,
   "id": "a2258955",
   "metadata": {},
   "outputs": [
    {
     "data": {
      "text/plain": [
       "4"
      ]
     },
     "execution_count": 4,
     "metadata": {},
     "output_type": "execute_result"
    }
   ],
   "source": [
    "2*2"
   ]
  },
  {
   "cell_type": "code",
   "execution_count": 5,
   "id": "aaa77469",
   "metadata": {},
   "outputs": [
    {
     "data": {
      "text/plain": [
       "1.5"
      ]
     },
     "execution_count": 5,
     "metadata": {},
     "output_type": "execute_result"
    }
   ],
   "source": [
    "3/2 "
   ]
  },
  {
   "cell_type": "markdown",
   "id": "36a0fa35",
   "metadata": {},
   "source": [
    "#### Modulo or \"Mod\" Operator"
   ]
  },
  {
   "cell_type": "code",
   "execution_count": 6,
   "id": "e71ee42c",
   "metadata": {},
   "outputs": [
    {
     "data": {
      "text/plain": [
       "1.75"
      ]
     },
     "execution_count": 6,
     "metadata": {},
     "output_type": "execute_result"
    }
   ],
   "source": [
    "7 / 4"
   ]
  },
  {
   "cell_type": "code",
   "execution_count": 7,
   "id": "480e33d6",
   "metadata": {},
   "outputs": [
    {
     "data": {
      "text/plain": [
       "3"
      ]
     },
     "execution_count": 7,
     "metadata": {},
     "output_type": "execute_result"
    }
   ],
   "source": [
    "7 & 3"
   ]
  },
  {
   "cell_type": "code",
   "execution_count": 8,
   "id": "79e983ae",
   "metadata": {},
   "outputs": [
    {
     "data": {
      "text/plain": [
       "0"
      ]
     },
     "execution_count": 8,
     "metadata": {},
     "output_type": "execute_result"
    }
   ],
   "source": [
    "50 % 5"
   ]
  },
  {
   "cell_type": "code",
   "execution_count": 9,
   "id": "e02fb39b",
   "metadata": {},
   "outputs": [
    {
     "data": {
      "text/plain": [
       "2"
      ]
     },
     "execution_count": 9,
     "metadata": {},
     "output_type": "execute_result"
    }
   ],
   "source": [
    "23 & 2"
   ]
  },
  {
   "cell_type": "code",
   "execution_count": 10,
   "id": "a78b85d9",
   "metadata": {},
   "outputs": [
    {
     "data": {
      "text/plain": [
       "0"
      ]
     },
     "execution_count": 10,
     "metadata": {},
     "output_type": "execute_result"
    }
   ],
   "source": [
    "20 % 2"
   ]
  },
  {
   "cell_type": "code",
   "execution_count": 11,
   "id": "2fb7b6b6",
   "metadata": {},
   "outputs": [
    {
     "data": {
      "text/plain": [
       "8"
      ]
     },
     "execution_count": 11,
     "metadata": {},
     "output_type": "execute_result"
    }
   ],
   "source": [
    "2 ** 3"
   ]
  },
  {
   "cell_type": "code",
   "execution_count": 12,
   "id": "5807693f",
   "metadata": {},
   "outputs": [
    {
     "data": {
      "text/plain": [
       "105"
      ]
     },
     "execution_count": 12,
     "metadata": {},
     "output_type": "execute_result"
    }
   ],
   "source": [
    "2 + 10 * 10 + 3"
   ]
  },
  {
   "cell_type": "code",
   "execution_count": 13,
   "id": "5461f8c3",
   "metadata": {},
   "outputs": [
    {
     "data": {
      "text/plain": [
       "156"
      ]
     },
     "execution_count": 13,
     "metadata": {},
     "output_type": "execute_result"
    }
   ],
   "source": [
    "(2 + 10) * (10 + 3)"
   ]
  },
  {
   "cell_type": "code",
   "execution_count": null,
   "id": "d6356800",
   "metadata": {},
   "outputs": [],
   "source": []
  }
 ],
 "metadata": {
  "kernelspec": {
   "display_name": "Python 3 (ipykernel)",
   "language": "python",
   "name": "python3"
  },
  "language_info": {
   "codemirror_mode": {
    "name": "ipython",
    "version": 3
   },
   "file_extension": ".py",
   "mimetype": "text/x-python",
   "name": "python",
   "nbconvert_exporter": "python",
   "pygments_lexer": "ipython3",
   "version": "3.10.2"
  }
 },
 "nbformat": 4,
 "nbformat_minor": 5
}
